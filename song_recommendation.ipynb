{
 "cells": [
  {
   "cell_type": "markdown",
   "metadata": {},
   "source": [
    "## Import libraries"
   ]
  },
  {
   "cell_type": "code",
   "execution_count": 1,
   "metadata": {},
   "outputs": [],
   "source": [
    "import pandas as pd \n",
    "import numpy as np \n",
    "from warnings import filterwarnings\n",
    "from sklearn.feature_extraction.text import CountVectorizer\n",
    "from sklearn.preprocessing import minmax_scale\n",
    "from sklearn.metrics.pairwise import cosine_similarity\n",
    "from cleantext import clean"
   ]
  },
  {
   "cell_type": "code",
   "execution_count": 2,
   "metadata": {},
   "outputs": [],
   "source": [
    "filterwarnings('ignore')"
   ]
  },
  {
   "cell_type": "markdown",
   "metadata": {},
   "source": [
    "## Import data"
   ]
  },
  {
   "cell_type": "code",
   "execution_count": 3,
   "metadata": {},
   "outputs": [
    {
     "data": {
      "text/html": [
       "<div>\n",
       "<style scoped>\n",
       "    .dataframe tbody tr th:only-of-type {\n",
       "        vertical-align: middle;\n",
       "    }\n",
       "\n",
       "    .dataframe tbody tr th {\n",
       "        vertical-align: top;\n",
       "    }\n",
       "\n",
       "    .dataframe thead th {\n",
       "        text-align: right;\n",
       "    }\n",
       "</style>\n",
       "<table border=\"1\" class=\"dataframe\">\n",
       "  <thead>\n",
       "    <tr style=\"text-align: right;\">\n",
       "      <th></th>\n",
       "      <th>Track URI</th>\n",
       "      <th>Track Name</th>\n",
       "      <th>Artist URI(s)</th>\n",
       "      <th>Artist Name(s)</th>\n",
       "      <th>Album URI</th>\n",
       "      <th>Album Name</th>\n",
       "      <th>Album Artist URI(s)</th>\n",
       "      <th>Album Artist Name(s)</th>\n",
       "      <th>Album Release Date</th>\n",
       "      <th>Album Image URL</th>\n",
       "      <th>...</th>\n",
       "      <th>Speechiness</th>\n",
       "      <th>Acousticness</th>\n",
       "      <th>Instrumentalness</th>\n",
       "      <th>Liveness</th>\n",
       "      <th>Valence</th>\n",
       "      <th>Tempo</th>\n",
       "      <th>Time Signature</th>\n",
       "      <th>Album Genres</th>\n",
       "      <th>Label</th>\n",
       "      <th>Copyrights</th>\n",
       "    </tr>\n",
       "  </thead>\n",
       "  <tbody>\n",
       "    <tr>\n",
       "      <th>0</th>\n",
       "      <td>spotify:track:1XAZlnVtthcDZt2NI1Dtxo</td>\n",
       "      <td>Justified &amp; Ancient - Stand by the Jams</td>\n",
       "      <td>spotify:artist:6dYrdRlNZSKaVxYg5IrvCH</td>\n",
       "      <td>The KLF</td>\n",
       "      <td>spotify:album:4MC0ZjNtVP1nDD5lsLxFjc</td>\n",
       "      <td>Songs Collection</td>\n",
       "      <td>spotify:artist:6dYrdRlNZSKaVxYg5IrvCH</td>\n",
       "      <td>The KLF</td>\n",
       "      <td>1992-08-03</td>\n",
       "      <td>https://i.scdn.co/image/ab67616d0000b27355346b...</td>\n",
       "      <td>...</td>\n",
       "      <td>0.0480</td>\n",
       "      <td>0.0158</td>\n",
       "      <td>0.112000</td>\n",
       "      <td>0.408</td>\n",
       "      <td>0.504</td>\n",
       "      <td>111.458</td>\n",
       "      <td>4.0</td>\n",
       "      <td>NaN</td>\n",
       "      <td>Jams Communications</td>\n",
       "      <td>C 1992 Copyright Control, P 1992 Jams Communic...</td>\n",
       "    </tr>\n",
       "    <tr>\n",
       "      <th>1</th>\n",
       "      <td>spotify:track:6a8GbQIlV8HBUW3c6Uk9PH</td>\n",
       "      <td>I Know You Want Me (Calle Ocho)</td>\n",
       "      <td>spotify:artist:0TnOYISbd1XYRBk9myaseg</td>\n",
       "      <td>Pitbull</td>\n",
       "      <td>spotify:album:5xLAcbvbSAlRtPXnKkggXA</td>\n",
       "      <td>Pitbull Starring In Rebelution</td>\n",
       "      <td>spotify:artist:0TnOYISbd1XYRBk9myaseg</td>\n",
       "      <td>Pitbull</td>\n",
       "      <td>2009-10-23</td>\n",
       "      <td>https://i.scdn.co/image/ab67616d0000b27326d73a...</td>\n",
       "      <td>...</td>\n",
       "      <td>0.1490</td>\n",
       "      <td>0.0142</td>\n",
       "      <td>0.000021</td>\n",
       "      <td>0.237</td>\n",
       "      <td>0.800</td>\n",
       "      <td>127.045</td>\n",
       "      <td>4.0</td>\n",
       "      <td>NaN</td>\n",
       "      <td>Mr.305/Polo Grounds Music/J Records</td>\n",
       "      <td>P (P) 2009 RCA/JIVE Label Group, a unit of Son...</td>\n",
       "    </tr>\n",
       "    <tr>\n",
       "      <th>2</th>\n",
       "      <td>spotify:track:70XtWbcVZcpaOddJftMcVi</td>\n",
       "      <td>From the Bottom of My Broken Heart</td>\n",
       "      <td>spotify:artist:26dSoYclwsYLMAKD3tpOr4</td>\n",
       "      <td>Britney Spears</td>\n",
       "      <td>spotify:album:3WNxdumkSMGMJRhEgK80qx</td>\n",
       "      <td>...Baby One More Time (Digital Deluxe Version)</td>\n",
       "      <td>spotify:artist:26dSoYclwsYLMAKD3tpOr4</td>\n",
       "      <td>Britney Spears</td>\n",
       "      <td>1999-01-12</td>\n",
       "      <td>https://i.scdn.co/image/ab67616d0000b2738e4986...</td>\n",
       "      <td>...</td>\n",
       "      <td>0.0305</td>\n",
       "      <td>0.5600</td>\n",
       "      <td>0.000001</td>\n",
       "      <td>0.338</td>\n",
       "      <td>0.706</td>\n",
       "      <td>74.981</td>\n",
       "      <td>4.0</td>\n",
       "      <td>NaN</td>\n",
       "      <td>Jive</td>\n",
       "      <td>P (P) 1999 Zomba Recording LLC</td>\n",
       "    </tr>\n",
       "  </tbody>\n",
       "</table>\n",
       "<p>3 rows × 35 columns</p>\n",
       "</div>"
      ],
      "text/plain": [
       "                              Track URI   \n",
       "0  spotify:track:1XAZlnVtthcDZt2NI1Dtxo  \\\n",
       "1  spotify:track:6a8GbQIlV8HBUW3c6Uk9PH   \n",
       "2  spotify:track:70XtWbcVZcpaOddJftMcVi   \n",
       "\n",
       "                                Track Name   \n",
       "0  Justified & Ancient - Stand by the Jams  \\\n",
       "1          I Know You Want Me (Calle Ocho)   \n",
       "2       From the Bottom of My Broken Heart   \n",
       "\n",
       "                           Artist URI(s)  Artist Name(s)   \n",
       "0  spotify:artist:6dYrdRlNZSKaVxYg5IrvCH         The KLF  \\\n",
       "1  spotify:artist:0TnOYISbd1XYRBk9myaseg         Pitbull   \n",
       "2  spotify:artist:26dSoYclwsYLMAKD3tpOr4  Britney Spears   \n",
       "\n",
       "                              Album URI   \n",
       "0  spotify:album:4MC0ZjNtVP1nDD5lsLxFjc  \\\n",
       "1  spotify:album:5xLAcbvbSAlRtPXnKkggXA   \n",
       "2  spotify:album:3WNxdumkSMGMJRhEgK80qx   \n",
       "\n",
       "                                       Album Name   \n",
       "0                                Songs Collection  \\\n",
       "1                  Pitbull Starring In Rebelution   \n",
       "2  ...Baby One More Time (Digital Deluxe Version)   \n",
       "\n",
       "                     Album Artist URI(s) Album Artist Name(s)   \n",
       "0  spotify:artist:6dYrdRlNZSKaVxYg5IrvCH              The KLF  \\\n",
       "1  spotify:artist:0TnOYISbd1XYRBk9myaseg              Pitbull   \n",
       "2  spotify:artist:26dSoYclwsYLMAKD3tpOr4       Britney Spears   \n",
       "\n",
       "  Album Release Date                                    Album Image URL  ...   \n",
       "0         1992-08-03  https://i.scdn.co/image/ab67616d0000b27355346b...  ...  \\\n",
       "1         2009-10-23  https://i.scdn.co/image/ab67616d0000b27326d73a...  ...   \n",
       "2         1999-01-12  https://i.scdn.co/image/ab67616d0000b2738e4986...  ...   \n",
       "\n",
       "   Speechiness  Acousticness  Instrumentalness Liveness  Valence    Tempo   \n",
       "0       0.0480        0.0158          0.112000    0.408    0.504  111.458  \\\n",
       "1       0.1490        0.0142          0.000021    0.237    0.800  127.045   \n",
       "2       0.0305        0.5600          0.000001    0.338    0.706   74.981   \n",
       "\n",
       "  Time Signature Album Genres                                Label   \n",
       "0            4.0          NaN                  Jams Communications  \\\n",
       "1            4.0          NaN  Mr.305/Polo Grounds Music/J Records   \n",
       "2            4.0          NaN                                 Jive   \n",
       "\n",
       "                                          Copyrights  \n",
       "0  C 1992 Copyright Control, P 1992 Jams Communic...  \n",
       "1  P (P) 2009 RCA/JIVE Label Group, a unit of Son...  \n",
       "2                     P (P) 1999 Zomba Recording LLC  \n",
       "\n",
       "[3 rows x 35 columns]"
      ]
     },
     "execution_count": 3,
     "metadata": {},
     "output_type": "execute_result"
    }
   ],
   "source": [
    "data = pd.read_csv('./song_data/spotify_songs.csv')\n",
    "data.head(3)"
   ]
  },
  {
   "cell_type": "markdown",
   "metadata": {},
   "source": [
    "## Data preprocessing"
   ]
  },
  {
   "cell_type": "markdown",
   "metadata": {},
   "source": [
    "- Selecting relevant columns"
   ]
  },
  {
   "cell_type": "code",
   "execution_count": 4,
   "metadata": {},
   "outputs": [],
   "source": [
    "cols = [\"Track URI\", \"Artist URI(s)\", \"Album URI\", \"Album Artist URI(s)\", \"Album Artist Name(s)\", \"Disc Number\", \"Track Number\", \"Track Preview URL\", \"ISRC\", \"Added By\", \"Added At\", \"Time Signature\", \"Album Genres\", \"Copyrights\"]"
   ]
  },
  {
   "cell_type": "code",
   "execution_count": 5,
   "metadata": {},
   "outputs": [
    {
     "data": {
      "text/html": [
       "<div>\n",
       "<style scoped>\n",
       "    .dataframe tbody tr th:only-of-type {\n",
       "        vertical-align: middle;\n",
       "    }\n",
       "\n",
       "    .dataframe tbody tr th {\n",
       "        vertical-align: top;\n",
       "    }\n",
       "\n",
       "    .dataframe thead th {\n",
       "        text-align: right;\n",
       "    }\n",
       "</style>\n",
       "<table border=\"1\" class=\"dataframe\">\n",
       "  <thead>\n",
       "    <tr style=\"text-align: right;\">\n",
       "      <th></th>\n",
       "      <th>Track Name</th>\n",
       "      <th>Artist Name(s)</th>\n",
       "      <th>Album Name</th>\n",
       "      <th>Album Release Date</th>\n",
       "      <th>Album Image URL</th>\n",
       "      <th>Track Duration (ms)</th>\n",
       "      <th>Explicit</th>\n",
       "      <th>Popularity</th>\n",
       "      <th>Artist Genres</th>\n",
       "      <th>Danceability</th>\n",
       "      <th>...</th>\n",
       "      <th>Key</th>\n",
       "      <th>Loudness</th>\n",
       "      <th>Mode</th>\n",
       "      <th>Speechiness</th>\n",
       "      <th>Acousticness</th>\n",
       "      <th>Instrumentalness</th>\n",
       "      <th>Liveness</th>\n",
       "      <th>Valence</th>\n",
       "      <th>Tempo</th>\n",
       "      <th>Label</th>\n",
       "    </tr>\n",
       "  </thead>\n",
       "  <tbody>\n",
       "    <tr>\n",
       "      <th>1067</th>\n",
       "      <td>Words Of Love</td>\n",
       "      <td>The Mamas &amp; The Papas</td>\n",
       "      <td>The Mamas &amp; The Papas</td>\n",
       "      <td>1966-08-30</td>\n",
       "      <td>https://i.scdn.co/image/ab67616d0000b27319ab57...</td>\n",
       "      <td>135893</td>\n",
       "      <td>False</td>\n",
       "      <td>0</td>\n",
       "      <td>classic rock,folk,folk rock,mellow gold,psyche...</td>\n",
       "      <td>0.439</td>\n",
       "      <td>...</td>\n",
       "      <td>8.0</td>\n",
       "      <td>-6.626</td>\n",
       "      <td>0.0</td>\n",
       "      <td>0.0450</td>\n",
       "      <td>0.5290</td>\n",
       "      <td>0.000000</td>\n",
       "      <td>0.215</td>\n",
       "      <td>0.627</td>\n",
       "      <td>115.904</td>\n",
       "      <td>Universal Music Group</td>\n",
       "    </tr>\n",
       "    <tr>\n",
       "      <th>2744</th>\n",
       "      <td>Back To You - From 13 Reasons Why – Season 2 S...</td>\n",
       "      <td>Selena Gomez</td>\n",
       "      <td>Back To You (From 13 Reasons Why – Season 2 So...</td>\n",
       "      <td>2018-05-10</td>\n",
       "      <td>https://i.scdn.co/image/ab67616d0000b27330885d...</td>\n",
       "      <td>207904</td>\n",
       "      <td>False</td>\n",
       "      <td>77</td>\n",
       "      <td>pop,post-teen pop</td>\n",
       "      <td>0.601</td>\n",
       "      <td>...</td>\n",
       "      <td>6.0</td>\n",
       "      <td>-4.856</td>\n",
       "      <td>1.0</td>\n",
       "      <td>0.0486</td>\n",
       "      <td>0.0945</td>\n",
       "      <td>0.000002</td>\n",
       "      <td>0.120</td>\n",
       "      <td>0.508</td>\n",
       "      <td>102.061</td>\n",
       "      <td>UMGRI Interscope</td>\n",
       "    </tr>\n",
       "  </tbody>\n",
       "</table>\n",
       "<p>2 rows × 21 columns</p>\n",
       "</div>"
      ],
      "text/plain": [
       "                                             Track Name   \n",
       "1067                                      Words Of Love  \\\n",
       "2744  Back To You - From 13 Reasons Why – Season 2 S...   \n",
       "\n",
       "             Artist Name(s)   \n",
       "1067  The Mamas & The Papas  \\\n",
       "2744           Selena Gomez   \n",
       "\n",
       "                                             Album Name Album Release Date   \n",
       "1067                              The Mamas & The Papas         1966-08-30  \\\n",
       "2744  Back To You (From 13 Reasons Why – Season 2 So...         2018-05-10   \n",
       "\n",
       "                                        Album Image URL  Track Duration (ms)   \n",
       "1067  https://i.scdn.co/image/ab67616d0000b27319ab57...               135893  \\\n",
       "2744  https://i.scdn.co/image/ab67616d0000b27330885d...               207904   \n",
       "\n",
       "      Explicit  Popularity                                      Artist Genres   \n",
       "1067     False           0  classic rock,folk,folk rock,mellow gold,psyche...  \\\n",
       "2744     False          77                                  pop,post-teen pop   \n",
       "\n",
       "      Danceability  ...  Key  Loudness  Mode  Speechiness  Acousticness   \n",
       "1067         0.439  ...  8.0    -6.626   0.0       0.0450        0.5290  \\\n",
       "2744         0.601  ...  6.0    -4.856   1.0       0.0486        0.0945   \n",
       "\n",
       "      Instrumentalness  Liveness  Valence    Tempo                  Label  \n",
       "1067          0.000000     0.215    0.627  115.904  Universal Music Group  \n",
       "2744          0.000002     0.120    0.508  102.061       UMGRI Interscope  \n",
       "\n",
       "[2 rows x 21 columns]"
      ]
     },
     "execution_count": 5,
     "metadata": {},
     "output_type": "execute_result"
    }
   ],
   "source": [
    "data = data.drop(columns = cols)\n",
    "data.sample(2)"
   ]
  },
  {
   "cell_type": "markdown",
   "metadata": {},
   "source": [
    "- Removing NA values"
   ]
  },
  {
   "cell_type": "code",
   "execution_count": 6,
   "metadata": {},
   "outputs": [
    {
     "data": {
      "text/plain": [
       "Track Name               1\n",
       "Artist Name(s)           1\n",
       "Album Name               1\n",
       "Album Release Date       2\n",
       "Album Image URL          4\n",
       "Track Duration (ms)      0\n",
       "Explicit                 0\n",
       "Popularity               0\n",
       "Artist Genres          550\n",
       "Danceability             2\n",
       "Energy                   2\n",
       "Key                      2\n",
       "Loudness                 2\n",
       "Mode                     2\n",
       "Speechiness              2\n",
       "Acousticness             2\n",
       "Instrumentalness         2\n",
       "Liveness                 2\n",
       "Valence                  2\n",
       "Tempo                    2\n",
       "Label                    6\n",
       "dtype: int64"
      ]
     },
     "execution_count": 6,
     "metadata": {},
     "output_type": "execute_result"
    }
   ],
   "source": [
    "data.isnull().sum()"
   ]
  },
  {
   "cell_type": "code",
   "execution_count": 7,
   "metadata": {},
   "outputs": [],
   "source": [
    "data.dropna(inplace = True)"
   ]
  },
  {
   "cell_type": "markdown",
   "metadata": {},
   "source": [
    "- Removing duplicate values"
   ]
  },
  {
   "cell_type": "code",
   "execution_count": 8,
   "metadata": {},
   "outputs": [
    {
     "name": "stdout",
     "output_type": "stream",
     "text": [
      "Total number of duplicated items: 47\n"
     ]
    }
   ],
   "source": [
    "print(f\"Total number of duplicated items: {data.duplicated().sum()}\")"
   ]
  },
  {
   "cell_type": "code",
   "execution_count": 9,
   "metadata": {},
   "outputs": [],
   "source": [
    "data.drop_duplicates(keep = 'first', inplace = True)"
   ]
  },
  {
   "cell_type": "markdown",
   "metadata": {},
   "source": [
    "- Keeping the Album Image URLs for later purpose"
   ]
  },
  {
   "cell_type": "code",
   "execution_count": 10,
   "metadata": {},
   "outputs": [],
   "source": [
    "album_img_urls = data['Album Image URL'].values\n",
    "data.drop(columns = ['Album Image URL'], inplace = True)"
   ]
  },
  {
   "cell_type": "markdown",
   "metadata": {},
   "source": [
    "- Selecting only the year from the album release date"
   ]
  },
  {
   "cell_type": "code",
   "execution_count": 11,
   "metadata": {},
   "outputs": [],
   "source": [
    "data['Album Release Year'] = data['Album Release Date'].apply(pd.Timestamp).dt.year\n",
    "data.drop(columns = 'Album Release Date', inplace = True)"
   ]
  },
  {
   "cell_type": "markdown",
   "metadata": {},
   "source": [
    "- Processing the text columns"
   ]
  },
  {
   "cell_type": "code",
   "execution_count": 12,
   "metadata": {},
   "outputs": [
    {
     "data": {
      "text/plain": [
       "Index(['Track Name', 'Artist Name(s)', 'Album Name', 'Track Duration (ms)',\n",
       "       'Explicit', 'Popularity', 'Artist Genres', 'Danceability', 'Energy',\n",
       "       'Key', 'Loudness', 'Mode', 'Speechiness', 'Acousticness',\n",
       "       'Instrumentalness', 'Liveness', 'Valence', 'Tempo', 'Label',\n",
       "       'Album Release Year'],\n",
       "      dtype='object')"
      ]
     },
     "execution_count": 12,
     "metadata": {},
     "output_type": "execute_result"
    }
   ],
   "source": [
    "data.columns"
   ]
  },
  {
   "cell_type": "code",
   "execution_count": 13,
   "metadata": {},
   "outputs": [],
   "source": [
    "data[\"Artist Name(s)\"] = data[\"Artist Name(s)\"].apply(clean)"
   ]
  },
  {
   "cell_type": "code",
   "execution_count": 14,
   "metadata": {},
   "outputs": [],
   "source": [
    "data[\"Artist Name(s)\"] = data[\"Artist Name(s)\"].str.split(\",\")"
   ]
  },
  {
   "cell_type": "code",
   "execution_count": 15,
   "metadata": {},
   "outputs": [],
   "source": [
    "data[\"Track Name\"] = data[\"Track Name\"].apply(clean).apply(lambda x: [x])"
   ]
  },
  {
   "cell_type": "code",
   "execution_count": 16,
   "metadata": {},
   "outputs": [],
   "source": [
    "data[\"Album Name\"] = data[\"Album Name\"].apply(clean).apply(lambda x: [x])"
   ]
  },
  {
   "cell_type": "code",
   "execution_count": 17,
   "metadata": {},
   "outputs": [],
   "source": [
    "data[\"Artist Genres\"] = data[\"Artist Genres\"].str.split(\",\").apply(lambda x: [i.replace(\" \",\"\") for i in x])"
   ]
  },
  {
   "cell_type": "code",
   "execution_count": 18,
   "metadata": {},
   "outputs": [],
   "source": [
    "data[\"Label\"] = data[\"Label\"].apply(clean).str.split(\"/\").apply(lambda x: [i.replace(\" \",\"\") for i in x])"
   ]
  },
  {
   "cell_type": "markdown",
   "metadata": {},
   "source": [
    "- Merging all the text columns (list)"
   ]
  },
  {
   "cell_type": "code",
   "execution_count": 19,
   "metadata": {},
   "outputs": [],
   "source": [
    "text_cols = data[\"Track Name\"] + data[\"Album Name\"] + data[\"Artist Name(s)\"] + data[\"Artist Genres\"] + data[\"Label\"]"
   ]
  },
  {
   "cell_type": "markdown",
   "metadata": {},
   "source": [
    "- Joining them to make the joined lists to texts"
   ]
  },
  {
   "cell_type": "code",
   "execution_count": 20,
   "metadata": {},
   "outputs": [],
   "source": [
    "text_cols = text_cols.apply(lambda x: \" \".join(x))"
   ]
  },
  {
   "cell_type": "markdown",
   "metadata": {},
   "source": [
    "- Removing numbers from the texts"
   ]
  },
  {
   "cell_type": "code",
   "execution_count": 21,
   "metadata": {},
   "outputs": [],
   "source": [
    "text_cols = text_cols = text_cols.apply(lambda x: clean(x, no_numbers=True, replace_with_number=\"\"))"
   ]
  },
  {
   "cell_type": "code",
   "execution_count": 22,
   "metadata": {},
   "outputs": [],
   "source": [
    "count_vect = CountVectorizer(stop_words = 'english', min_df = 3, max_df = 0.8)\n",
    "text_vect = count_vect.fit_transform(text_cols)"
   ]
  },
  {
   "cell_type": "code",
   "execution_count": 23,
   "metadata": {},
   "outputs": [],
   "source": [
    "text_vect_array = minmax_scale(text_vect.A)   # Converting the text vector sparse matrix to array and normalizing it"
   ]
  },
  {
   "cell_type": "markdown",
   "metadata": {},
   "source": [
    "- Converting Explicit column from boolean to int"
   ]
  },
  {
   "cell_type": "code",
   "execution_count": 24,
   "metadata": {},
   "outputs": [],
   "source": [
    "data[\"Explicit\"] = data[\"Explicit\"].map({\n",
    "    False:0,\n",
    "    True:1\n",
    "})"
   ]
  },
  {
   "cell_type": "markdown",
   "metadata": {},
   "source": [
    "- Selecting the numerical song attributes"
   ]
  },
  {
   "cell_type": "code",
   "execution_count": 25,
   "metadata": {},
   "outputs": [],
   "source": [
    "song_attrs = data.select_dtypes(exclude='object').values\n",
    "song_attrs = minmax_scale(song_attrs)    # This is important because some of the column may have less variance and some column has high variance and scale, Normalization ensures each column or feature has same scale"
   ]
  },
  {
   "cell_type": "code",
   "execution_count": 26,
   "metadata": {},
   "outputs": [
    {
     "data": {
      "text/plain": [
       "(9398, 15)"
      ]
     },
     "execution_count": 26,
     "metadata": {},
     "output_type": "execute_result"
    }
   ],
   "source": [
    "song_attrs.shape"
   ]
  },
  {
   "cell_type": "markdown",
   "metadata": {},
   "source": [
    "- Finally merging the text vectors and song attributes to get the complete vector representations of the songs"
   ]
  },
  {
   "cell_type": "code",
   "execution_count": 27,
   "metadata": {},
   "outputs": [],
   "source": [
    "song_vect = np.concatenate([text_vect_array, song_attrs], axis = 1)"
   ]
  },
  {
   "cell_type": "code",
   "execution_count": 28,
   "metadata": {},
   "outputs": [
    {
     "data": {
      "text/plain": [
       "(9398, 4508)"
      ]
     },
     "execution_count": 28,
     "metadata": {},
     "output_type": "execute_result"
    }
   ],
   "source": [
    "song_vect.shape"
   ]
  },
  {
   "cell_type": "markdown",
   "metadata": {},
   "source": [
    "- Finding similarities between the songs"
   ]
  },
  {
   "cell_type": "code",
   "execution_count": 29,
   "metadata": {},
   "outputs": [],
   "source": [
    "similarities = cosine_similarity(song_vect)"
   ]
  },
  {
   "cell_type": "markdown",
   "metadata": {},
   "source": [
    "- Making a list of songs"
   ]
  },
  {
   "cell_type": "code",
   "execution_count": 30,
   "metadata": {},
   "outputs": [
    {
     "data": {
      "text/plain": [
       "array(['justified & ancient - stand by the jams',\n",
       "       'i know you want me (calle ocho)',\n",
       "       'from the bottom of my broken heart', ...,\n",
       "       \"groovejet (if this ain't love) [feat. sophie ellis-bextor]\",\n",
       "       'lay low', 'padam padam'], dtype=object)"
      ]
     },
     "execution_count": 30,
     "metadata": {},
     "output_type": "execute_result"
    }
   ],
   "source": [
    "songs = data[\"Track Name\"].apply(lambda x: \" \".join(x)).values\n",
    "songs"
   ]
  },
  {
   "cell_type": "markdown",
   "metadata": {},
   "source": [
    "- Creating needed dictionaries by zipping song indices with song names"
   ]
  },
  {
   "cell_type": "code",
   "execution_count": 31,
   "metadata": {},
   "outputs": [],
   "source": [
    "song_dict1 = dict(zip(songs, np.arange(songs.shape[0])))    # song : index\n",
    "song_dict2 = dict(zip(np.arange(songs.shape[0]), songs))    # index : song"
   ]
  },
  {
   "cell_type": "markdown",
   "metadata": {},
   "source": [
    "- Recommendation function"
   ]
  },
  {
   "cell_type": "code",
   "execution_count": 47,
   "metadata": {},
   "outputs": [],
   "source": [
    "def recommend(song):\n",
    "    songs = []\n",
    "    urls = []\n",
    "    song = song.lower()\n",
    "    song_ind = song_dict1[song]\n",
    "    top_5_matches = np.argsort(similarities[song_ind])[-6:-1]   # Last one is the song itself, so, dont take it\n",
    "    for i in top_5_matches:\n",
    "        songs.append(song_dict2[i])\n",
    "        urls.append(album_img_urls[i])\n",
    "    return songs, urls"
   ]
  },
  {
   "cell_type": "code",
   "execution_count": 48,
   "metadata": {},
   "outputs": [
    {
     "data": {
      "text/plain": [
       "(['god is a dancer (with mabel)', '10:35', 'ritual', '10:35', 'the business'],\n",
       " ['https://i.scdn.co/image/ab67616d0000b2731e3f58e2a9d74333ba8f2392',\n",
       "  'https://i.scdn.co/image/ab67616d0000b273cf8c47967e5c6bbc7dca5abb',\n",
       "  'https://i.scdn.co/image/ab67616d0000b273211bcd4f50464c15d7c7f111',\n",
       "  'https://i.scdn.co/image/ab67616d0000b273999565cd8bea3f8f0985bb31',\n",
       "  'https://i.scdn.co/image/ab67616d0000b273f461bbc21a9bcec43a926973'])"
      ]
     },
     "execution_count": 48,
     "metadata": {},
     "output_type": "execute_result"
    }
   ],
   "source": [
    "recommend(\"lay low\")"
   ]
  },
  {
   "cell_type": "markdown",
   "metadata": {},
   "source": [
    "- Exporting all the necessary files"
   ]
  },
  {
   "cell_type": "code",
   "execution_count": 51,
   "metadata": {},
   "outputs": [],
   "source": [
    "import joblib"
   ]
  },
  {
   "cell_type": "markdown",
   "metadata": {},
   "source": [
    "* All the objects are stored in saved_objects folder"
   ]
  },
  {
   "cell_type": "code",
   "execution_count": 52,
   "metadata": {},
   "outputs": [
    {
     "data": {
      "text/plain": [
       "['song_dict2.pkl']"
      ]
     },
     "execution_count": 52,
     "metadata": {},
     "output_type": "execute_result"
    }
   ],
   "source": [
    "joblib.dump(album_img_urls, \"image_urls.pkl\")\n",
    "joblib.dump(similarities, \"song_similarities.pkl\")\n",
    "joblib.dump(song_dict1, \"song_dict1.pkl\")\n",
    "joblib.dump(song_dict2, \"song_dict2.pkl\")"
   ]
  },
  {
   "cell_type": "code",
   "execution_count": null,
   "metadata": {},
   "outputs": [],
   "source": []
  }
 ],
 "metadata": {
  "kernelspec": {
   "display_name": "Python 3",
   "language": "python",
   "name": "python3"
  },
  "language_info": {
   "codemirror_mode": {
    "name": "ipython",
    "version": 3
   },
   "file_extension": ".py",
   "mimetype": "text/x-python",
   "name": "python",
   "nbconvert_exporter": "python",
   "pygments_lexer": "ipython3",
   "version": "3.11.3"
  }
 },
 "nbformat": 4,
 "nbformat_minor": 2
}
